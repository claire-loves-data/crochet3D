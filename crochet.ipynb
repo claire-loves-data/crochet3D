{
 "metadata": {
  "language_info": {
   "codemirror_mode": {
    "name": "ipython",
    "version": 3
   },
   "file_extension": ".py",
   "mimetype": "text/x-python",
   "name": "python",
   "nbconvert_exporter": "python",
   "pygments_lexer": "ipython3",
   "version": "3.8.5"
  },
  "orig_nbformat": 2,
  "kernelspec": {
   "name": "python385jvsc74a57bd09dd8632cff42d76ee670fe0a0c83b26cc3846daf11bc167cd3556d110c5f7052",
   "display_name": "Python 3.8.5 64-bit ('base': conda)"
  }
 },
 "nbformat": 4,
 "nbformat_minor": 2,
 "cells": [
  {
   "cell_type": "code",
   "execution_count": null,
   "metadata": {},
   "outputs": [],
   "source": [
    "import numpy as np\n",
    "import math\n",
    "from stl import mesh"
   ]
  },
  {
   "cell_type": "code",
   "execution_count": null,
   "metadata": {},
   "outputs": [],
   "source": [
    "def vertex_circle(segments, z):\n",
    "    \"\"\" Return a ring of vertices \"\"\"\n",
    "    verts = []\n",
    "\n",
    "    for i in range(segments):\n",
    "        angle = (math.pi*2) * i / segments\n",
    "        verts.append((math.cos(angle), math.sin(angle), z))\n",
    "\n",
    "    return verts"
   ]
  },
  {
   "cell_type": "code",
   "execution_count": null,
   "metadata": {},
   "outputs": [],
   "source": [
    "def sc_6_into_magic_ring():\n",
    "    rounds = 1\n",
    "    stitches = 6\n",
    "    vertices_list = []\n",
    "    faces_list = []\n",
    "    total_vertices = stitches*(rounds+1)\n",
    "    for r in range(rounds+1):\n",
    "        vertices_list.extend(vertex_circle(stitches,r+1))\n",
    "        if r < rounds:\n",
    "            for s in range(stitches):\n",
    "                # faces_list.append([s,(s+1)%stitches,((s+1)%stitches)+stitches,s+stitches]) can't do squares with .stl\n",
    "                faces_list.append([s,(s+1)%stitches,s+stitches])\n",
    "                faces_list.append([(s+1)%stitches,s+stitches,((s+1)%stitches)+stitches])\n",
    "    print(len(vertices_list))\n",
    "    print(faces_list)\n",
    "    return np.array(vertices_list,dtype=object), np.array(faces_list,dtype=object)\n"
   ]
  },
  {
   "cell_type": "code",
   "execution_count": null,
   "metadata": {},
   "outputs": [],
   "source": [
    "vertices, faces = sc_6_into_magic_ring()"
   ]
  },
  {
   "cell_type": "code",
   "execution_count": null,
   "metadata": {},
   "outputs": [],
   "source": [
    "# Create the mesh\n",
    "circle = mesh.Mesh(np.zeros(faces.shape[0], dtype=mesh.Mesh.dtype))\n",
    "print(circle)\n",
    "for i, f in enumerate(faces):\n",
    "    for j in range(3):\n",
    "        print(vertices[f[j],:])\n",
    "        circle.vectors[i][j] = vertices[f[j]]\n",
    "\n",
    "# Write the mesh to file \"cube.stl\"\n",
    "circle.save('circle.stl')"
   ]
  },
  {
   "cell_type": "code",
   "execution_count": null,
   "metadata": {},
   "outputs": [],
   "source": [
    "6%6"
   ]
  },
  {
   "cell_type": "code",
   "execution_count": null,
   "metadata": {},
   "outputs": [],
   "source": []
  }
 ]
}